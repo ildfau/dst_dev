{
 "cells": [
  {
   "cell_type": "code",
   "execution_count": 84,
   "metadata": {
    "_cell_guid": "b1076dfc-b9ad-4769-8c92-a6c4dae69d19",
    "_uuid": "8f2839f25d086af736a60e9eeb907d3b93b6e0e5",
    "colab": {},
    "colab_type": "code",
    "id": "U2D2gTdJVp90"
   },
   "outputs": [],
   "source": [
    "import numpy as np\n",
    "import pandas as pd\n",
    "import seaborn as sns\n",
    "import matplotlib.pyplot as plt\n",
    "from collections import Counter\n",
    "import itertools"
   ]
  },
  {
   "cell_type": "code",
   "execution_count": 156,
   "metadata": {
    "_cell_guid": "79c7e3d0-c299-4dcb-8224-4455121ee9b0",
    "_uuid": "d629ff2d2480ee46fbb7e2d37f6b5fab8052498a",
    "colab": {},
    "colab_type": "code",
    "id": "oyGfxL3eVp9-"
   },
   "outputs": [
    {
     "data": {
      "text/html": [
       "<div>\n",
       "<style scoped>\n",
       "    .dataframe tbody tr th:only-of-type {\n",
       "        vertical-align: middle;\n",
       "    }\n",
       "\n",
       "    .dataframe tbody tr th {\n",
       "        vertical-align: top;\n",
       "    }\n",
       "\n",
       "    .dataframe thead th {\n",
       "        text-align: right;\n",
       "    }\n",
       "</style>\n",
       "<table border=\"1\" class=\"dataframe\">\n",
       "  <thead>\n",
       "    <tr style=\"text-align: right;\">\n",
       "      <th></th>\n",
       "      <th>imdb_id</th>\n",
       "      <th>budget</th>\n",
       "      <th>revenue</th>\n",
       "      <th>original_title</th>\n",
       "      <th>cast</th>\n",
       "      <th>director</th>\n",
       "      <th>tagline</th>\n",
       "      <th>overview</th>\n",
       "      <th>runtime</th>\n",
       "      <th>genres</th>\n",
       "      <th>production_companies</th>\n",
       "      <th>release_date</th>\n",
       "      <th>vote_average</th>\n",
       "      <th>release_year</th>\n",
       "    </tr>\n",
       "  </thead>\n",
       "  <tbody>\n",
       "    <tr>\n",
       "      <th>1482</th>\n",
       "      <td>tt0475394</td>\n",
       "      <td>17000000</td>\n",
       "      <td>57103895</td>\n",
       "      <td>Smokin' Aces</td>\n",
       "      <td>Ryan Reynolds|Ray Liotta|Joseph Ruskin|Alex Ro...</td>\n",
       "      <td>Joe Carnahan</td>\n",
       "      <td>Nobody gets away clean.</td>\n",
       "      <td>When a Las Vegas performer-turned-snitch named...</td>\n",
       "      <td>109</td>\n",
       "      <td>Action|Comedy|Crime|Thriller</td>\n",
       "      <td>Universal Pictures|StudioCanal|Relativity Medi...</td>\n",
       "      <td>12/9/2006</td>\n",
       "      <td>6.3</td>\n",
       "      <td>2006</td>\n",
       "    </tr>\n",
       "    <tr>\n",
       "      <th>1615</th>\n",
       "      <td>tt0368933</td>\n",
       "      <td>40000000</td>\n",
       "      <td>95149435</td>\n",
       "      <td>The Princess Diaries 2: Royal Engagement</td>\n",
       "      <td>Anne Hathaway|Julie Andrews|HÃ©ctor Elizondo|J...</td>\n",
       "      <td>Garry Marshall</td>\n",
       "      <td>It can take a lifetime to find true love; she'...</td>\n",
       "      <td>Mia Thermopolis is now a college graduate and ...</td>\n",
       "      <td>113</td>\n",
       "      <td>Comedy|Drama|Family|Romance</td>\n",
       "      <td>Walt Disney Pictures</td>\n",
       "      <td>8/6/2004</td>\n",
       "      <td>5.9</td>\n",
       "      <td>2004</td>\n",
       "    </tr>\n",
       "    <tr>\n",
       "      <th>1329</th>\n",
       "      <td>tt0405422</td>\n",
       "      <td>26000000</td>\n",
       "      <td>109449237</td>\n",
       "      <td>The 40 Year Old Virgin</td>\n",
       "      <td>Steve Carell|Catherine Keener|Paul Rudd|Romany...</td>\n",
       "      <td>Judd Apatow</td>\n",
       "      <td>The longer you wait, the harder it gets.</td>\n",
       "      <td>Andy Stitzer has a pleasant life with a nice a...</td>\n",
       "      <td>116</td>\n",
       "      <td>Comedy|Romance</td>\n",
       "      <td>Universal Pictures|Apatow Productions</td>\n",
       "      <td>8/11/2005</td>\n",
       "      <td>6.2</td>\n",
       "      <td>2005</td>\n",
       "    </tr>\n",
       "    <tr>\n",
       "      <th>397</th>\n",
       "      <td>tt0814255</td>\n",
       "      <td>95000000</td>\n",
       "      <td>226497209</td>\n",
       "      <td>Percy Jackson &amp; the Olympians: The Lightning T...</td>\n",
       "      <td>Logan Lerman|Brandon T. Jackson|Alexandra Dadd...</td>\n",
       "      <td>Chris Columbus</td>\n",
       "      <td>Worlds Collide</td>\n",
       "      <td>Accident prone teenager, Percy discovers he's ...</td>\n",
       "      <td>118</td>\n",
       "      <td>Adventure|Fantasy|Family</td>\n",
       "      <td>Ingenious Film Partners|1492 Pictures|Dune Ent...</td>\n",
       "      <td>2/1/2010</td>\n",
       "      <td>6.0</td>\n",
       "      <td>2010</td>\n",
       "    </tr>\n",
       "    <tr>\n",
       "      <th>1651</th>\n",
       "      <td>tt0335121</td>\n",
       "      <td>25000000</td>\n",
       "      <td>30114487</td>\n",
       "      <td>Godsend</td>\n",
       "      <td>Greg Kinnear|Rebecca Romijn|Robert De Niro|Cam...</td>\n",
       "      <td>Nick Hamm</td>\n",
       "      <td>When a miracle becomes a nightmare, evil is born.</td>\n",
       "      <td>A couple agree to have their deceased son clon...</td>\n",
       "      <td>102</td>\n",
       "      <td>Drama|Horror|Science Fiction|Thriller</td>\n",
       "      <td>Lions Gate Films|2929 Productions|Artists Prod...</td>\n",
       "      <td>4/30/2004</td>\n",
       "      <td>4.7</td>\n",
       "      <td>2004</td>\n",
       "    </tr>\n",
       "  </tbody>\n",
       "</table>\n",
       "</div>"
      ],
      "text/plain": [
       "        imdb_id    budget    revenue  \\\n",
       "1482  tt0475394  17000000   57103895   \n",
       "1615  tt0368933  40000000   95149435   \n",
       "1329  tt0405422  26000000  109449237   \n",
       "397   tt0814255  95000000  226497209   \n",
       "1651  tt0335121  25000000   30114487   \n",
       "\n",
       "                                         original_title  \\\n",
       "1482                                       Smokin' Aces   \n",
       "1615           The Princess Diaries 2: Royal Engagement   \n",
       "1329                             The 40 Year Old Virgin   \n",
       "397   Percy Jackson & the Olympians: The Lightning T...   \n",
       "1651                                            Godsend   \n",
       "\n",
       "                                                   cast        director  \\\n",
       "1482  Ryan Reynolds|Ray Liotta|Joseph Ruskin|Alex Ro...    Joe Carnahan   \n",
       "1615  Anne Hathaway|Julie Andrews|HÃ©ctor Elizondo|J...  Garry Marshall   \n",
       "1329  Steve Carell|Catherine Keener|Paul Rudd|Romany...     Judd Apatow   \n",
       "397   Logan Lerman|Brandon T. Jackson|Alexandra Dadd...  Chris Columbus   \n",
       "1651  Greg Kinnear|Rebecca Romijn|Robert De Niro|Cam...       Nick Hamm   \n",
       "\n",
       "                                                tagline  \\\n",
       "1482                            Nobody gets away clean.   \n",
       "1615  It can take a lifetime to find true love; she'...   \n",
       "1329           The longer you wait, the harder it gets.   \n",
       "397                                      Worlds Collide   \n",
       "1651  When a miracle becomes a nightmare, evil is born.   \n",
       "\n",
       "                                               overview  runtime  \\\n",
       "1482  When a Las Vegas performer-turned-snitch named...      109   \n",
       "1615  Mia Thermopolis is now a college graduate and ...      113   \n",
       "1329  Andy Stitzer has a pleasant life with a nice a...      116   \n",
       "397   Accident prone teenager, Percy discovers he's ...      118   \n",
       "1651  A couple agree to have their deceased son clon...      102   \n",
       "\n",
       "                                     genres  \\\n",
       "1482           Action|Comedy|Crime|Thriller   \n",
       "1615            Comedy|Drama|Family|Romance   \n",
       "1329                         Comedy|Romance   \n",
       "397                Adventure|Fantasy|Family   \n",
       "1651  Drama|Horror|Science Fiction|Thriller   \n",
       "\n",
       "                                   production_companies release_date  \\\n",
       "1482  Universal Pictures|StudioCanal|Relativity Medi...    12/9/2006   \n",
       "1615                               Walt Disney Pictures     8/6/2004   \n",
       "1329              Universal Pictures|Apatow Productions    8/11/2005   \n",
       "397   Ingenious Film Partners|1492 Pictures|Dune Ent...     2/1/2010   \n",
       "1651  Lions Gate Films|2929 Productions|Artists Prod...    4/30/2004   \n",
       "\n",
       "      vote_average  release_year  \n",
       "1482           6.3          2006  \n",
       "1615           5.9          2004  \n",
       "1329           6.2          2005  \n",
       "397            6.0          2010  \n",
       "1651           4.7          2004  "
      ]
     },
     "execution_count": 156,
     "metadata": {},
     "output_type": "execute_result"
    }
   ],
   "source": [
    "data = pd.read_csv('movie_bd_v5.csv')\n",
    "data.sample(5)"
   ]
  },
  {
   "cell_type": "code",
   "execution_count": 3,
   "metadata": {
    "colab": {},
    "colab_type": "code",
    "id": "CoYUnagMVp-C"
   },
   "outputs": [
    {
     "data": {
      "text/html": [
       "<div>\n",
       "<style scoped>\n",
       "    .dataframe tbody tr th:only-of-type {\n",
       "        vertical-align: middle;\n",
       "    }\n",
       "\n",
       "    .dataframe tbody tr th {\n",
       "        vertical-align: top;\n",
       "    }\n",
       "\n",
       "    .dataframe thead th {\n",
       "        text-align: right;\n",
       "    }\n",
       "</style>\n",
       "<table border=\"1\" class=\"dataframe\">\n",
       "  <thead>\n",
       "    <tr style=\"text-align: right;\">\n",
       "      <th></th>\n",
       "      <th>budget</th>\n",
       "      <th>revenue</th>\n",
       "      <th>runtime</th>\n",
       "      <th>vote_average</th>\n",
       "      <th>release_year</th>\n",
       "    </tr>\n",
       "  </thead>\n",
       "  <tbody>\n",
       "    <tr>\n",
       "      <th>count</th>\n",
       "      <td>1.889000e+03</td>\n",
       "      <td>1.889000e+03</td>\n",
       "      <td>1889.000000</td>\n",
       "      <td>1889.000000</td>\n",
       "      <td>1889.000000</td>\n",
       "    </tr>\n",
       "    <tr>\n",
       "      <th>mean</th>\n",
       "      <td>5.431083e+07</td>\n",
       "      <td>1.553653e+08</td>\n",
       "      <td>109.658549</td>\n",
       "      <td>6.140762</td>\n",
       "      <td>2007.860773</td>\n",
       "    </tr>\n",
       "    <tr>\n",
       "      <th>std</th>\n",
       "      <td>4.858721e+07</td>\n",
       "      <td>2.146698e+08</td>\n",
       "      <td>18.017041</td>\n",
       "      <td>0.764763</td>\n",
       "      <td>4.468841</td>\n",
       "    </tr>\n",
       "    <tr>\n",
       "      <th>min</th>\n",
       "      <td>5.000000e+06</td>\n",
       "      <td>2.033165e+06</td>\n",
       "      <td>63.000000</td>\n",
       "      <td>3.300000</td>\n",
       "      <td>2000.000000</td>\n",
       "    </tr>\n",
       "    <tr>\n",
       "      <th>25%</th>\n",
       "      <td>2.000000e+07</td>\n",
       "      <td>3.456058e+07</td>\n",
       "      <td>97.000000</td>\n",
       "      <td>5.600000</td>\n",
       "      <td>2004.000000</td>\n",
       "    </tr>\n",
       "    <tr>\n",
       "      <th>50%</th>\n",
       "      <td>3.800000e+07</td>\n",
       "      <td>8.361541e+07</td>\n",
       "      <td>107.000000</td>\n",
       "      <td>6.100000</td>\n",
       "      <td>2008.000000</td>\n",
       "    </tr>\n",
       "    <tr>\n",
       "      <th>75%</th>\n",
       "      <td>7.200000e+07</td>\n",
       "      <td>1.782626e+08</td>\n",
       "      <td>120.000000</td>\n",
       "      <td>6.600000</td>\n",
       "      <td>2012.000000</td>\n",
       "    </tr>\n",
       "    <tr>\n",
       "      <th>max</th>\n",
       "      <td>3.800000e+08</td>\n",
       "      <td>2.781506e+09</td>\n",
       "      <td>214.000000</td>\n",
       "      <td>8.100000</td>\n",
       "      <td>2015.000000</td>\n",
       "    </tr>\n",
       "  </tbody>\n",
       "</table>\n",
       "</div>"
      ],
      "text/plain": [
       "             budget       revenue      runtime  vote_average  release_year\n",
       "count  1.889000e+03  1.889000e+03  1889.000000   1889.000000   1889.000000\n",
       "mean   5.431083e+07  1.553653e+08   109.658549      6.140762   2007.860773\n",
       "std    4.858721e+07  2.146698e+08    18.017041      0.764763      4.468841\n",
       "min    5.000000e+06  2.033165e+06    63.000000      3.300000   2000.000000\n",
       "25%    2.000000e+07  3.456058e+07    97.000000      5.600000   2004.000000\n",
       "50%    3.800000e+07  8.361541e+07   107.000000      6.100000   2008.000000\n",
       "75%    7.200000e+07  1.782626e+08   120.000000      6.600000   2012.000000\n",
       "max    3.800000e+08  2.781506e+09   214.000000      8.100000   2015.000000"
      ]
     },
     "execution_count": 3,
     "metadata": {},
     "output_type": "execute_result"
    }
   ],
   "source": [
    "data.describe()"
   ]
  },
  {
   "cell_type": "code",
   "execution_count": 209,
   "metadata": {},
   "outputs": [
    {
     "data": {
      "text/html": [
       "<div>\n",
       "<style scoped>\n",
       "    .dataframe tbody tr th:only-of-type {\n",
       "        vertical-align: middle;\n",
       "    }\n",
       "\n",
       "    .dataframe tbody tr th {\n",
       "        vertical-align: top;\n",
       "    }\n",
       "\n",
       "    .dataframe thead th {\n",
       "        text-align: right;\n",
       "    }\n",
       "</style>\n",
       "<table border=\"1\" class=\"dataframe\">\n",
       "  <thead>\n",
       "    <tr style=\"text-align: right;\">\n",
       "      <th></th>\n",
       "      <th>imdb_id</th>\n",
       "      <th>budget</th>\n",
       "      <th>revenue</th>\n",
       "      <th>original_title</th>\n",
       "      <th>cast</th>\n",
       "      <th>director</th>\n",
       "      <th>tagline</th>\n",
       "      <th>overview</th>\n",
       "      <th>runtime</th>\n",
       "      <th>genres</th>\n",
       "      <th>production_companies</th>\n",
       "      <th>release_date</th>\n",
       "      <th>vote_average</th>\n",
       "      <th>release_year</th>\n",
       "      <th>release_month</th>\n",
       "      <th>release_day</th>\n",
       "      <th>profit</th>\n",
       "      <th>title_length</th>\n",
       "      <th>overview_length</th>\n",
       "    </tr>\n",
       "  </thead>\n",
       "  <tbody>\n",
       "    <tr>\n",
       "      <th>1884</th>\n",
       "      <td>tt0120903</td>\n",
       "      <td>75000000</td>\n",
       "      <td>157299717</td>\n",
       "      <td>X-Men</td>\n",
       "      <td>Patrick Stewart|Hugh Jackman|Ian McKellen|Hall...</td>\n",
       "      <td>Bryan Singer</td>\n",
       "      <td>Evolution Begins</td>\n",
       "      <td>Two mutants, Rogue and Wolverine, come to a pr...</td>\n",
       "      <td>104</td>\n",
       "      <td>Adventure|Action|Science Fiction</td>\n",
       "      <td>Twentieth Century Fox Film Corporation|Donners...</td>\n",
       "      <td>7/13/2000</td>\n",
       "      <td>6.6</td>\n",
       "      <td>2000</td>\n",
       "      <td>7</td>\n",
       "      <td>13</td>\n",
       "      <td>82299717</td>\n",
       "      <td>5</td>\n",
       "      <td>174</td>\n",
       "    </tr>\n",
       "    <tr>\n",
       "      <th>1885</th>\n",
       "      <td>tt0192255</td>\n",
       "      <td>22000000</td>\n",
       "      <td>13555988</td>\n",
       "      <td>The Little Vampire</td>\n",
       "      <td>Richard E. Grant|Jonathan Lipnicki|Jim Carter|...</td>\n",
       "      <td>Uli Edel</td>\n",
       "      <td>They're not just best friends, they're blood b...</td>\n",
       "      <td>Based on the popular books, the story tells of...</td>\n",
       "      <td>95</td>\n",
       "      <td>Horror|Family|Foreign</td>\n",
       "      <td>New Line Cinema</td>\n",
       "      <td>10/27/2000</td>\n",
       "      <td>6.4</td>\n",
       "      <td>2000</td>\n",
       "      <td>10</td>\n",
       "      <td>27</td>\n",
       "      <td>-8444012</td>\n",
       "      <td>18</td>\n",
       "      <td>390</td>\n",
       "    </tr>\n",
       "    <tr>\n",
       "      <th>1886</th>\n",
       "      <td>tt0131704</td>\n",
       "      <td>76000000</td>\n",
       "      <td>35134820</td>\n",
       "      <td>The Adventures of Rocky &amp; Bullwinkle</td>\n",
       "      <td>Rene Russo|Jason Alexander|Piper Perabo|Randy ...</td>\n",
       "      <td>Des McAnuff</td>\n",
       "      <td>This summer it's not the same old bull.</td>\n",
       "      <td>Rocky and Bullwinkle have been living off the ...</td>\n",
       "      <td>88</td>\n",
       "      <td>Adventure|Animation|Action|Comedy|Family</td>\n",
       "      <td>Universal Pictures|Capella International|KC Me...</td>\n",
       "      <td>6/30/2000</td>\n",
       "      <td>4.0</td>\n",
       "      <td>2000</td>\n",
       "      <td>6</td>\n",
       "      <td>30</td>\n",
       "      <td>-40865180</td>\n",
       "      <td>36</td>\n",
       "      <td>337</td>\n",
       "    </tr>\n",
       "    <tr>\n",
       "      <th>1887</th>\n",
       "      <td>tt0162983</td>\n",
       "      <td>40000000</td>\n",
       "      <td>36037909</td>\n",
       "      <td>Hanging Up</td>\n",
       "      <td>Meg Ryan|Diane Keaton|Lisa Kudrow|Walter Matth...</td>\n",
       "      <td>Diane Keaton</td>\n",
       "      <td>Every family has a few hang-ups.</td>\n",
       "      <td>A trio of sisters bond over their ambivalence ...</td>\n",
       "      <td>94</td>\n",
       "      <td>Comedy|Drama</td>\n",
       "      <td>Laurence Mark Productions|Columbia Pictures Co...</td>\n",
       "      <td>2/16/2000</td>\n",
       "      <td>5.2</td>\n",
       "      <td>2000</td>\n",
       "      <td>2</td>\n",
       "      <td>16</td>\n",
       "      <td>-3962091</td>\n",
       "      <td>10</td>\n",
       "      <td>149</td>\n",
       "    </tr>\n",
       "    <tr>\n",
       "      <th>1888</th>\n",
       "      <td>tt0163676</td>\n",
       "      <td>15000000</td>\n",
       "      <td>5217498</td>\n",
       "      <td>The In Crowd</td>\n",
       "      <td>Susan Ward|Lori Heuring|Matthew Settle|Nathan ...</td>\n",
       "      <td>Mary Lambert</td>\n",
       "      <td>What would you do to get in?</td>\n",
       "      <td>A mentally disturbed young woman takes a job a...</td>\n",
       "      <td>105</td>\n",
       "      <td>Thriller</td>\n",
       "      <td>Warner Bros. Pictures</td>\n",
       "      <td>7/19/2000</td>\n",
       "      <td>5.2</td>\n",
       "      <td>2000</td>\n",
       "      <td>7</td>\n",
       "      <td>19</td>\n",
       "      <td>-9782502</td>\n",
       "      <td>12</td>\n",
       "      <td>237</td>\n",
       "    </tr>\n",
       "  </tbody>\n",
       "</table>\n",
       "</div>"
      ],
      "text/plain": [
       "        imdb_id    budget    revenue                        original_title  \\\n",
       "1884  tt0120903  75000000  157299717                                 X-Men   \n",
       "1885  tt0192255  22000000   13555988                    The Little Vampire   \n",
       "1886  tt0131704  76000000   35134820  The Adventures of Rocky & Bullwinkle   \n",
       "1887  tt0162983  40000000   36037909                            Hanging Up   \n",
       "1888  tt0163676  15000000    5217498                          The In Crowd   \n",
       "\n",
       "                                                   cast      director  \\\n",
       "1884  Patrick Stewart|Hugh Jackman|Ian McKellen|Hall...  Bryan Singer   \n",
       "1885  Richard E. Grant|Jonathan Lipnicki|Jim Carter|...      Uli Edel   \n",
       "1886  Rene Russo|Jason Alexander|Piper Perabo|Randy ...   Des McAnuff   \n",
       "1887  Meg Ryan|Diane Keaton|Lisa Kudrow|Walter Matth...  Diane Keaton   \n",
       "1888  Susan Ward|Lori Heuring|Matthew Settle|Nathan ...  Mary Lambert   \n",
       "\n",
       "                                                tagline  \\\n",
       "1884                                   Evolution Begins   \n",
       "1885  They're not just best friends, they're blood b...   \n",
       "1886            This summer it's not the same old bull.   \n",
       "1887                   Every family has a few hang-ups.   \n",
       "1888                       What would you do to get in?   \n",
       "\n",
       "                                               overview  runtime  \\\n",
       "1884  Two mutants, Rogue and Wolverine, come to a pr...      104   \n",
       "1885  Based on the popular books, the story tells of...       95   \n",
       "1886  Rocky and Bullwinkle have been living off the ...       88   \n",
       "1887  A trio of sisters bond over their ambivalence ...       94   \n",
       "1888  A mentally disturbed young woman takes a job a...      105   \n",
       "\n",
       "                                        genres  \\\n",
       "1884          Adventure|Action|Science Fiction   \n",
       "1885                     Horror|Family|Foreign   \n",
       "1886  Adventure|Animation|Action|Comedy|Family   \n",
       "1887                              Comedy|Drama   \n",
       "1888                                  Thriller   \n",
       "\n",
       "                                   production_companies release_date  \\\n",
       "1884  Twentieth Century Fox Film Corporation|Donners...    7/13/2000   \n",
       "1885                                    New Line Cinema   10/27/2000   \n",
       "1886  Universal Pictures|Capella International|KC Me...    6/30/2000   \n",
       "1887  Laurence Mark Productions|Columbia Pictures Co...    2/16/2000   \n",
       "1888                              Warner Bros. Pictures    7/19/2000   \n",
       "\n",
       "      vote_average  release_year  release_month  release_day    profit  \\\n",
       "1884           6.6          2000              7           13  82299717   \n",
       "1885           6.4          2000             10           27  -8444012   \n",
       "1886           4.0          2000              6           30 -40865180   \n",
       "1887           5.2          2000              2           16  -3962091   \n",
       "1888           5.2          2000              7           19  -9782502   \n",
       "\n",
       "      title_length  overview_length  \n",
       "1884             5              174  \n",
       "1885            18              390  \n",
       "1886            36              337  \n",
       "1887            10              149  \n",
       "1888            12              237  "
      ]
     },
     "execution_count": 209,
     "metadata": {},
     "output_type": "execute_result"
    }
   ],
   "source": [
    "data.tail(5)"
   ]
  },
  {
   "cell_type": "markdown",
   "metadata": {
    "colab_type": "text",
    "id": "DTIt7ezGVp-G"
   },
   "source": [
    "# Предобработка"
   ]
  },
  {
   "cell_type": "code",
   "execution_count": 157,
   "metadata": {
    "colab": {},
    "colab_type": "code",
    "id": "jNb40DwKVp-H"
   },
   "outputs": [],
   "source": [
    "answers = {} # создадим словарь для ответов\n",
    "\n",
    "# дату разделим на 3 столбца (месяц, день, год):\n",
    "data[['release_month','release_day', 'release_year']] = data.release_date.str.split(\"/\", expand=True).astype(int)\n",
    "\n",
    "# посчитаем прибыль/убытки:\n",
    "data['profit'] = data.revenue - data.budget\n",
    "\n",
    "# длина названия:\n",
    "data['title_length'] = data.original_title.str.len()\n",
    "\n",
    "# длина описания фильма:\n",
    "data['overview_length'] = data.overview.str.len()\n",
    "\n",
    "# Таблица жанров фильмов:\n",
    "genres_table = data['genres'].str.get_dummies(sep='|') # Convert categorical variable into dummy/indicator variables\n",
    "# ее можно слить с любой частью основной таблицы, а можно использовать отдельно\n",
    "\n",
    "# Чистим данные:\n",
    "data.drop_duplicates(subset = 'imdb_id', keep = 'first', inplace = True) # удаляем дублирование фильмов"
   ]
  },
  {
   "cell_type": "markdown",
   "metadata": {
    "colab_type": "text",
    "id": "YxZaH-nPVp-L"
   },
   "source": [
    "# 1. У какого фильма из списка самый большой бюджет?"
   ]
  },
  {
   "cell_type": "code",
   "execution_count": 99,
   "metadata": {
    "colab": {},
    "colab_type": "code",
    "id": "uVnXAY5RVp-O"
   },
   "outputs": [],
   "source": [
    "# в словарь вставляем номер вопроса и ответ на него:\n",
    "answers['1'] = '5. Pirates of the Caribbean: On Stranger Tides (tt1298650)'"
   ]
  },
  {
   "cell_type": "code",
   "execution_count": 248,
   "metadata": {
    "colab": {},
    "colab_type": "code",
    "id": "dZwb3m28Vp-S"
   },
   "outputs": [
    {
     "data": {
      "text/plain": [
       "723    Pirates of the Caribbean: On Stranger Tides\n",
       "Name: original_title, dtype: object"
      ]
     },
     "metadata": {},
     "output_type": "display_data"
    }
   ],
   "source": [
    "# тут пишем ваш код для решения данного вопроса:\n",
    "max_budget = data.budget.max() # максимальный бюджет\n",
    "film1 = data[data.budget == max_budget] # фильм с макс. бюджетом\n",
    "display(film1.original_title)"
   ]
  },
  {
   "cell_type": "markdown",
   "metadata": {
    "colab_type": "text",
    "id": "FNRbbI3vVp-c"
   },
   "source": [
    "# 2. Какой из фильмов самый длительный (в минутах)?"
   ]
  },
  {
   "cell_type": "code",
   "execution_count": 7,
   "metadata": {
    "colab": {},
    "colab_type": "code",
    "id": "vHAoEXNTVp-d"
   },
   "outputs": [],
   "source": [
    "# Ответ на вопрос №2:\n",
    "answers['2'] = '2. Gods and Generals (tt0279111)'"
   ]
  },
  {
   "cell_type": "code",
   "execution_count": 247,
   "metadata": {
    "colab": {},
    "colab_type": "code",
    "id": "ot-VX2XrVp-g"
   },
   "outputs": [
    {
     "data": {
      "text/plain": [
       "1157    Gods and Generals\n",
       "Name: original_title, dtype: object"
      ]
     },
     "metadata": {},
     "output_type": "display_data"
    }
   ],
   "source": [
    "max_runtime = data.runtime.max() # макс. длительность фильма\n",
    "film2 = data[data.runtime == max_runtime] # фильм с макс. длительностью\n",
    "display(film2.original_title)"
   ]
  },
  {
   "cell_type": "markdown",
   "metadata": {
    "colab_type": "text",
    "id": "bapLlpW8Vp-k"
   },
   "source": [
    "# 3. Какой из фильмов самый короткий (в минутах)?\n",
    "\n",
    "\n",
    "\n"
   ]
  },
  {
   "cell_type": "code",
   "execution_count": 9,
   "metadata": {
    "colab": {},
    "colab_type": "code",
    "id": "YBxaSHuAVp-l"
   },
   "outputs": [],
   "source": [
    "answers['3'] = '3. Winnie the Pooh (tt1449283)'"
   ]
  },
  {
   "cell_type": "code",
   "execution_count": 246,
   "metadata": {},
   "outputs": [
    {
     "data": {
      "text/plain": [
       "768    Winnie the Pooh\n",
       "Name: original_title, dtype: object"
      ]
     },
     "metadata": {},
     "output_type": "display_data"
    }
   ],
   "source": [
    "min_runtime = data.runtime.min() # мин. длительность фильма\n",
    "film3 = data[data.runtime == min_runtime] # фильм с мин. длительностью\n",
    "display(film3.original_title)"
   ]
  },
  {
   "cell_type": "markdown",
   "metadata": {
    "colab_type": "text",
    "id": "TfQbxbfNVp-p"
   },
   "source": [
    "# 4. Какова средняя длительность фильмов?\n"
   ]
  },
  {
   "cell_type": "code",
   "execution_count": 11,
   "metadata": {
    "colab": {},
    "colab_type": "code",
    "id": "5K6dKZYVVp-q"
   },
   "outputs": [],
   "source": [
    "answers['4'] = 110"
   ]
  },
  {
   "cell_type": "code",
   "execution_count": 245,
   "metadata": {},
   "outputs": [
    {
     "name": "stdout",
     "output_type": "stream",
     "text": [
      "110\n"
     ]
    }
   ],
   "source": [
    "# вычисляем средную продолжительность фильмов и округляем до целого:\n",
    "mean_runtime = data.runtime.mean()\n",
    "print(round(mean_runtime))"
   ]
  },
  {
   "cell_type": "markdown",
   "metadata": {
    "colab_type": "text",
    "id": "r5TvbnT_Vp-u"
   },
   "source": [
    "# 5. Каково медианное значение длительности фильмов? "
   ]
  },
  {
   "cell_type": "code",
   "execution_count": 13,
   "metadata": {
    "colab": {},
    "colab_type": "code",
    "id": "iBROplKnVp-v"
   },
   "outputs": [],
   "source": [
    "answers['5'] = 107"
   ]
  },
  {
   "cell_type": "code",
   "execution_count": 244,
   "metadata": {},
   "outputs": [
    {
     "name": "stdout",
     "output_type": "stream",
     "text": [
      "107\n"
     ]
    }
   ],
   "source": [
    "# вычисляем медиану продолжительности фильмов и округляем до целого:\n",
    "median_runtime = data.runtime.median()\n",
    "print(round(median_runtime))"
   ]
  },
  {
   "cell_type": "markdown",
   "metadata": {
    "colab_type": "text",
    "id": "39P-deDSVp-y"
   },
   "source": [
    "# 6. Какой самый прибыльный фильм?\n",
    "#### Внимание! Здесь и далее под «прибылью» или «убытками» понимается разность между сборами и бюджетом фильма. (прибыль = сборы - бюджет) в нашем датасете это будет (profit = revenue - budget) "
   ]
  },
  {
   "cell_type": "code",
   "execution_count": 16,
   "metadata": {
    "colab": {},
    "colab_type": "code",
    "id": "UYZh4T9WVp-y"
   },
   "outputs": [],
   "source": [
    "answers['6'] = 'Avatar (tt0499549)'"
   ]
  },
  {
   "cell_type": "code",
   "execution_count": 243,
   "metadata": {},
   "outputs": [
    {
     "data": {
      "text/plain": [
       "239    Avatar\n",
       "Name: original_title, dtype: object"
      ]
     },
     "metadata": {},
     "output_type": "display_data"
    }
   ],
   "source": [
    "# вычисляем макс. прибыль:\n",
    "max_profit = data.profit.max()\n",
    "film6 = data[data.profit == max_profit] # фильм с макс. бюджетом\n",
    "display(film6.original_title)"
   ]
  },
  {
   "cell_type": "markdown",
   "metadata": {
    "colab_type": "text",
    "id": "M99JmIX4Vp-2"
   },
   "source": [
    "# 7. Какой фильм самый убыточный? "
   ]
  },
  {
   "cell_type": "code",
   "execution_count": 18,
   "metadata": {
    "colab": {},
    "colab_type": "code",
    "id": "w-D2m4XPVp-3"
   },
   "outputs": [],
   "source": [
    "answers['7'] = 'The Lone Ranger (tt1210819)'"
   ]
  },
  {
   "cell_type": "code",
   "execution_count": 241,
   "metadata": {},
   "outputs": [
    {
     "data": {
      "text/plain": [
       "1245    The Lone Ranger\n",
       "Name: original_title, dtype: object"
      ]
     },
     "metadata": {},
     "output_type": "display_data"
    }
   ],
   "source": [
    "min_profit = data.profit.min() # макс. убыток\n",
    "film7 = data[data.profit == min_profit] # самый убыточный фильм\n",
    "display(film7.original_title)"
   ]
  },
  {
   "cell_type": "markdown",
   "metadata": {
    "colab_type": "text",
    "id": "wEOM5ERVVp-6"
   },
   "source": [
    "# 8. У скольких фильмов из датасета объем сборов оказался выше бюджета?"
   ]
  },
  {
   "cell_type": "code",
   "execution_count": 20,
   "metadata": {
    "colab": {},
    "colab_type": "code",
    "id": "y00_7HD6Vp-7"
   },
   "outputs": [],
   "source": [
    "answers['8'] = 1478"
   ]
  },
  {
   "cell_type": "code",
   "execution_count": 242,
   "metadata": {},
   "outputs": [
    {
     "data": {
      "text/plain": [
       "1478"
      ]
     },
     "execution_count": 242,
     "metadata": {},
     "output_type": "execute_result"
    }
   ],
   "source": [
    "films8 = data[data.profit > 0] # фильмы с доходами\n",
    "len(films8) # кол-во заработавших прибыль фильмов"
   ]
  },
  {
   "cell_type": "markdown",
   "metadata": {
    "colab_type": "text",
    "id": "xhpspA9KVp_A"
   },
   "source": [
    "# 9. Какой фильм оказался самым кассовым в 2008 году?"
   ]
  },
  {
   "cell_type": "code",
   "execution_count": 22,
   "metadata": {
    "colab": {},
    "colab_type": "code",
    "id": "MoUyQr9RVp_B"
   },
   "outputs": [],
   "source": [
    "answers['9'] = 'The Dark Knight (tt0468569)'"
   ]
  },
  {
   "cell_type": "code",
   "execution_count": 240,
   "metadata": {},
   "outputs": [
    {
     "data": {
      "text/plain": [
       "599    The Dark Knight\n",
       "Name: original_title, dtype: object"
      ]
     },
     "metadata": {},
     "output_type": "display_data"
    }
   ],
   "source": [
    "# фильмы 2008 года:\n",
    "data_2008 = data[data.release_date.str.contains(\"2008\")]\n",
    "#data_2008 = data[data.release_year == 2008]\n",
    "\n",
    "max_profit_2008 = data_2008.profit.max() # макс. прибыль\n",
    "film9 = data_2008[data_2008.profit == max_profit_2008] # самый успешный по сборам фильм 2008 года\n",
    "display(film9.original_title)"
   ]
  },
  {
   "cell_type": "markdown",
   "metadata": {
    "colab_type": "text",
    "id": "Zi4hDKidVp_F"
   },
   "source": [
    "# 10. Самый убыточный фильм за период с 2012 по 2014 г. (включительно)?\n"
   ]
  },
  {
   "cell_type": "code",
   "execution_count": 26,
   "metadata": {
    "colab": {},
    "colab_type": "code",
    "id": "XqyRmufJVp_F"
   },
   "outputs": [],
   "source": [
    "answers['10'] = 'The Lone Ranger (tt1210819)'"
   ]
  },
  {
   "cell_type": "code",
   "execution_count": 28,
   "metadata": {},
   "outputs": [
    {
     "data": {
      "text/plain": [
       "1245    The Lone Ranger\n",
       "Name: original_title, dtype: object"
      ]
     },
     "metadata": {},
     "output_type": "display_data"
    }
   ],
   "source": [
    "# фильмы 2012-2014 года:\n",
    "data_2012_2014 =  data[(data.release_year >= 2012) & (data.release_year <= 2014)]\n",
    "#data_2012_2014 = data[(data.release_date.str.contains(\"2012\")) | (data.release_date.str.contains(\"2013\")) | (data.release_date.str.contains(\"2014\")) ]\n",
    "\n",
    "min_profit_2012_2014 = data_2012_2014.profit.min() # наибольший убыток\n",
    "film10 = data_2012_2014[data_2012_2014.profit == min_profit_2012_2014] # самый убыточный фильм 2012-2014 годов\n",
    "display(film10.original_title)"
   ]
  },
  {
   "cell_type": "markdown",
   "metadata": {
    "colab_type": "text",
    "id": "EA7Sa9dkVp_I"
   },
   "source": [
    "# 11. Какого жанра фильмов больше всего?"
   ]
  },
  {
   "cell_type": "code",
   "execution_count": 29,
   "metadata": {
    "colab": {},
    "colab_type": "code",
    "id": "zsJAwJ8QVp_J"
   },
   "outputs": [],
   "source": [
    "# эту задачу тоже можно решать разными подходами, попробуй реализовать разные варианты\n",
    "answers['11'] = 'Drama'"
   ]
  },
  {
   "cell_type": "code",
   "execution_count": 238,
   "metadata": {},
   "outputs": [
    {
     "data": {
      "text/plain": [
       "Drama              782\n",
       "Comedy             683\n",
       "Thriller           596\n",
       "Action             582\n",
       "Adventure          415\n",
       "Crime              315\n",
       "Romance            308\n",
       "Family             260\n",
       "Science Fiction    248\n",
       "Fantasy            222\n",
       "Horror             176\n",
       "Mystery            168\n",
       "Animation          139\n",
       "Music               64\n",
       "History             62\n",
       "War                 58\n",
       "Western             19\n",
       "Documentary          8\n",
       "Foreign              2\n",
       "dtype: int64"
      ]
     },
     "execution_count": 238,
     "metadata": {},
     "output_type": "execute_result"
    }
   ],
   "source": [
    "# посчитаем сумму вхождений каждого жанра в результирующую таблицу жанров (см. Предобработка):\n",
    "genres_table.sum().sort_values(ascending=False)"
   ]
  },
  {
   "cell_type": "markdown",
   "metadata": {
    "colab_type": "text",
    "id": "Ax6g2C8SVp_M"
   },
   "source": [
    "ВАРИАНТ 2"
   ]
  },
  {
   "cell_type": "code",
   "execution_count": 237,
   "metadata": {
    "colab": {},
    "colab_type": "code",
    "id": "otO3SbrSVp_N"
   },
   "outputs": [
    {
     "name": "stderr",
     "output_type": "stream",
     "text": [
      "<ipython-input-237-b5e5efa4eaf5>:5: SettingWithCopyWarning: \n",
      "A value is trying to be set on a copy of a slice from a DataFrame.\n",
      "Try using .loc[row_indexer,col_indexer] = value instead\n",
      "\n",
      "See the caveats in the documentation: https://pandas.pydata.org/pandas-docs/stable/user_guide/indexing.html#returning-a-view-versus-a-copy\n",
      "  data11['genres'] = data11['genres'].apply(lambda x: x.split('|'))\n"
     ]
    },
    {
     "data": {
      "text/plain": [
       "genres\n",
       "Drama              782\n",
       "Comedy             683\n",
       "Thriller           596\n",
       "Action             582\n",
       "Adventure          415\n",
       "Crime              315\n",
       "Romance            308\n",
       "Family             260\n",
       "Science Fiction    248\n",
       "Fantasy            222\n",
       "Horror             176\n",
       "Mystery            168\n",
       "Animation          139\n",
       "Music               64\n",
       "History             62\n",
       "War                 58\n",
       "Western             19\n",
       "Documentary          8\n",
       "Foreign              2\n",
       "Name: imdb_id, dtype: int64"
      ]
     },
     "execution_count": 237,
     "metadata": {},
     "output_type": "execute_result"
    }
   ],
   "source": [
    "# минитаблица только с id и жанрами:\n",
    "data11 = data[['imdb_id', 'genres']]\n",
    "\n",
    "# на каждый жанр отдельная строка:\n",
    "data11['genres'] = data11['genres'].apply(lambda x: x.split('|'))\n",
    "data11.fillna(0)\n",
    "df11 = data11.explode('genres')\n",
    "\n",
    "# посчитаем сумму вхождений каждого жанра в получившуюся таблицу:\n",
    "df11.groupby(df11.genres)['imdb_id'].count().sort_values(ascending=False)"
   ]
  },
  {
   "cell_type": "markdown",
   "metadata": {
    "colab_type": "text",
    "id": "T9_bPWpkVp_Q"
   },
   "source": [
    "# 12. Фильмы какого жанра чаще всего становятся прибыльными? "
   ]
  },
  {
   "cell_type": "code",
   "execution_count": 36,
   "metadata": {
    "colab": {},
    "colab_type": "code",
    "id": "Tmt8MaK1Vp_R"
   },
   "outputs": [],
   "source": [
    "answers['12'] = 'Drama'"
   ]
  },
  {
   "cell_type": "code",
   "execution_count": 235,
   "metadata": {},
   "outputs": [
    {
     "data": {
      "text/plain": [
       "Drama              560\n",
       "Comedy             551\n",
       "Thriller           446\n",
       "Action             444\n",
       "Adventure          337\n",
       "Romance            242\n",
       "Crime              231\n",
       "Family             226\n",
       "Science Fiction    195\n",
       "Fantasy            188\n",
       "Horror             150\n",
       "Animation          120\n",
       "Mystery            119\n",
       "Music               47\n",
       "History             46\n",
       "War                 41\n",
       "Western             12\n",
       "Documentary          7\n",
       "dtype: int64"
      ]
     },
     "execution_count": 235,
     "metadata": {},
     "output_type": "execute_result"
    }
   ],
   "source": [
    "# Фильмы с доходами:\n",
    "films12 = data[data.profit > 0]\n",
    "\n",
    "# Таблица жанров прибыльных фильмов:\n",
    "profit_genres_table = films12['genres'].str.get_dummies(sep='|') # Convert categorical variable into dummy/indicator variable\n",
    "profit_genres_table.sum().sort_values(ascending=False) # считаем кол-во вхождений каждого жанра"
   ]
  },
  {
   "cell_type": "markdown",
   "metadata": {
    "colab_type": "text",
    "id": "0F23bgsDVp_U"
   },
   "source": [
    "# 13. У какого режиссера самые большие суммарные кассовые сборы?"
   ]
  },
  {
   "cell_type": "code",
   "execution_count": 38,
   "metadata": {
    "colab": {},
    "colab_type": "code",
    "id": "K6Z3J8ygVp_X"
   },
   "outputs": [],
   "source": [
    "answers['13'] = 'Peter Jackson'"
   ]
  },
  {
   "cell_type": "code",
   "execution_count": 233,
   "metadata": {},
   "outputs": [
    {
     "data": {
      "text/plain": [
       "director\n",
       "Peter Jackson        6490593685\n",
       "Christopher Nolan    4167548502\n",
       "David Yates          4154295625\n",
       "Michael Bay          3886938960\n",
       "J.J. Abrams          3579169916\n",
       "                        ...    \n",
       "David MichÃ´d           2295423\n",
       "Steven Shainberg        2281089\n",
       "Paul Schrader           2062066\n",
       "Keanu Reeves            2054941\n",
       "Simon Hunter            2033165\n",
       "Name: revenue, Length: 957, dtype: int64"
      ]
     },
     "execution_count": 233,
     "metadata": {},
     "output_type": "execute_result"
    }
   ],
   "source": [
    "# Группируем данные по режиссерам, находим суммарные кассовые сборы, сортируем по убыванию:\n",
    "data.groupby(data.director)['revenue'].sum().sort_values(ascending=False)\n",
    "# есть фильмы с более чем 1 режиссером! Поэтому вариант 2, наверно, лучше"
   ]
  },
  {
   "cell_type": "markdown",
   "metadata": {},
   "source": [
    "ВАРИАНТ 2"
   ]
  },
  {
   "cell_type": "code",
   "execution_count": 232,
   "metadata": {},
   "outputs": [
    {
     "name": "stderr",
     "output_type": "stream",
     "text": [
      "<ipython-input-232-ad854716232f>:5: SettingWithCopyWarning: \n",
      "A value is trying to be set on a copy of a slice from a DataFrame.\n",
      "Try using .loc[row_indexer,col_indexer] = value instead\n",
      "\n",
      "See the caveats in the documentation: https://pandas.pydata.org/pandas-docs/stable/user_guide/indexing.html#returning-a-view-versus-a-copy\n",
      "  data13['director'] = data13['director'].apply(lambda x: x.split('|'))\n"
     ]
    },
    {
     "data": {
      "text/plain": [
       "director\n",
       "Peter Jackson        6490593685\n",
       "Christopher Nolan    4167548502\n",
       "David Yates          4154295625\n",
       "Michael Bay          3886938960\n",
       "J.J. Abrams          3579169916\n",
       "                        ...    \n",
       "David MichÃ´d           2295423\n",
       "Steven Shainberg        2281089\n",
       "Paul Schrader           2062066\n",
       "Keanu Reeves            2054941\n",
       "Simon Hunter            2033165\n",
       "Name: revenue, Length: 997, dtype: int64"
      ]
     },
     "execution_count": 232,
     "metadata": {},
     "output_type": "execute_result"
    }
   ],
   "source": [
    "# минитаблица только с id и режиссерами и сборами:\n",
    "data13 = data[['imdb_id', 'director', 'revenue']]\n",
    "\n",
    "# на каждого режиссера отдельная строка:\n",
    "data13['director'] = data13['director'].apply(lambda x: x.split('|'))\n",
    "data13.fillna(0)\n",
    "df13 = data13.explode('director')\n",
    "\n",
    "# посчитаем сумму сборов всех фильмов каждого режиссера:\n",
    "df13.groupby(df13.director)['revenue'].sum().sort_values(ascending=False)"
   ]
  },
  {
   "cell_type": "markdown",
   "metadata": {
    "colab_type": "text",
    "id": "PsYC9FgRVp_a"
   },
   "source": [
    "# 14. Какой режисер снял больше всего фильмов в стиле Action?"
   ]
  },
  {
   "cell_type": "code",
   "execution_count": 46,
   "metadata": {
    "colab": {},
    "colab_type": "code",
    "id": "wd2M-wHeVp_b"
   },
   "outputs": [],
   "source": [
    "answers['14'] = 'Robert Rodriguez'"
   ]
  },
  {
   "cell_type": "code",
   "execution_count": 230,
   "metadata": {},
   "outputs": [
    {
     "data": {
      "text/plain": [
       "Robert Rodriguez      9\n",
       "Paul W.S. Anderson    7\n",
       "Michael Bay           7\n",
       "Ridley Scott          6\n",
       "Antoine Fuqua         6\n",
       "                     ..\n",
       "Joe Cornish           1\n",
       "Roger Spottiswoode    1\n",
       "Jimmy Hayward         1\n",
       "Jim Gillespie         1\n",
       "Jon Avnet             1\n",
       "Length: 364, dtype: int64"
      ]
     },
     "execution_count": 230,
     "metadata": {},
     "output_type": "execute_result"
    }
   ],
   "source": [
    "# Таблица Action фильмов:\n",
    "data_actions = data[data.genres.str.contains(\"Action\")]\n",
    "\n",
    "# Таблица режиссеров Action фильмов:\n",
    "directors_table = data_actions['director'].str.get_dummies(sep='|') # Convert categorical variable into dummy/indicator variables\n",
    "\n",
    "# посчитаем сумму вхождений каждого режиссера в получившуюся таблицу:\n",
    "directors_table.sum().sort_values(ascending=False)"
   ]
  },
  {
   "cell_type": "markdown",
   "metadata": {
    "colab_type": "text",
    "id": "PQ0KciD7Vp_f"
   },
   "source": [
    "# 15. Фильмы с каким актером принесли самые высокие кассовые сборы в 2012 году? "
   ]
  },
  {
   "cell_type": "code",
   "execution_count": 48,
   "metadata": {
    "colab": {},
    "colab_type": "code",
    "id": "aga62oeKVp_g"
   },
   "outputs": [],
   "source": [
    "answers['15'] = 'Chris Hemsworth'"
   ]
  },
  {
   "cell_type": "code",
   "execution_count": 229,
   "metadata": {},
   "outputs": [
    {
     "data": {
      "text/html": [
       "<div>\n",
       "<style scoped>\n",
       "    .dataframe tbody tr th:only-of-type {\n",
       "        vertical-align: middle;\n",
       "    }\n",
       "\n",
       "    .dataframe tbody tr th {\n",
       "        vertical-align: top;\n",
       "    }\n",
       "\n",
       "    .dataframe thead th {\n",
       "        text-align: right;\n",
       "    }\n",
       "</style>\n",
       "<table border=\"1\" class=\"dataframe\">\n",
       "  <thead>\n",
       "    <tr style=\"text-align: right;\">\n",
       "      <th></th>\n",
       "      <th>revenue</th>\n",
       "    </tr>\n",
       "    <tr>\n",
       "      <th>cast</th>\n",
       "      <th></th>\n",
       "    </tr>\n",
       "  </thead>\n",
       "  <tbody>\n",
       "    <tr>\n",
       "      <th>Chris Hemsworth</th>\n",
       "      <td>2027450773</td>\n",
       "    </tr>\n",
       "    <tr>\n",
       "      <th>Denis Leary</th>\n",
       "      <td>1629460639</td>\n",
       "    </tr>\n",
       "    <tr>\n",
       "      <th>Anne Hathaway</th>\n",
       "      <td>1522851057</td>\n",
       "    </tr>\n",
       "    <tr>\n",
       "      <th>Robert Downey Jr.</th>\n",
       "      <td>1519557910</td>\n",
       "    </tr>\n",
       "    <tr>\n",
       "      <th>Mark Ruffalo</th>\n",
       "      <td>1519557910</td>\n",
       "    </tr>\n",
       "    <tr>\n",
       "      <th>...</th>\n",
       "      <td>...</td>\n",
       "    </tr>\n",
       "    <tr>\n",
       "      <th>Michael Nyqvist</th>\n",
       "      <td>3428048</td>\n",
       "    </tr>\n",
       "    <tr>\n",
       "      <th>Danny Huston</th>\n",
       "      <td>2106557</td>\n",
       "    </tr>\n",
       "    <tr>\n",
       "      <th>Josh Lucas</th>\n",
       "      <td>2106557</td>\n",
       "    </tr>\n",
       "    <tr>\n",
       "      <th>Sami Gayle</th>\n",
       "      <td>2106557</td>\n",
       "    </tr>\n",
       "    <tr>\n",
       "      <th>Nicolas Cage</th>\n",
       "      <td>2106557</td>\n",
       "    </tr>\n",
       "  </tbody>\n",
       "</table>\n",
       "<p>466 rows × 1 columns</p>\n",
       "</div>"
      ],
      "text/plain": [
       "                      revenue\n",
       "cast                         \n",
       "Chris Hemsworth    2027450773\n",
       "Denis Leary        1629460639\n",
       "Anne Hathaway      1522851057\n",
       "Robert Downey Jr.  1519557910\n",
       "Mark Ruffalo       1519557910\n",
       "...                       ...\n",
       "Michael Nyqvist       3428048\n",
       "Danny Huston          2106557\n",
       "Josh Lucas            2106557\n",
       "Sami Gayle            2106557\n",
       "Nicolas Cage          2106557\n",
       "\n",
       "[466 rows x 1 columns]"
      ]
     },
     "execution_count": 229,
     "metadata": {},
     "output_type": "execute_result"
    }
   ],
   "source": [
    "# Фильмы 2012 года, включим только 3 нужных столбца:\n",
    "mini_data_2012 = data[data.release_year == 2012][['cast', 'revenue']]\n",
    "\n",
    "# на каждого актера отдельная строка:\n",
    "mini_data_2012['cast'] = mini_data_2012['cast'].apply(lambda x: x.split('|'))\n",
    "mini_data_2012.fillna(0)\n",
    "df15 = mini_data_2012.explode('cast')\n",
    "\n",
    "# сгруппируем данные по актерам, посчитаем суммарную прибыль фильмов каждого актера:\n",
    "aggregation_functions = {'revenue': 'sum'}\n",
    "df15.groupby(df15['cast']).aggregate(aggregation_functions).sort_values(['revenue'], ascending=False)"
   ]
  },
  {
   "cell_type": "markdown",
   "metadata": {
    "colab_type": "text",
    "id": "mWHyyL7QVp_j"
   },
   "source": [
    "# 16. Какой актер снялся в большем количестве высокобюджетных фильмов?"
   ]
  },
  {
   "cell_type": "code",
   "execution_count": 55,
   "metadata": {
    "colab": {},
    "colab_type": "code",
    "id": "qQtmHKTFVp_k"
   },
   "outputs": [],
   "source": [
    "answers['16'] = 'Matt Damon'"
   ]
  },
  {
   "cell_type": "code",
   "execution_count": 228,
   "metadata": {},
   "outputs": [
    {
     "data": {
      "text/plain": [
       "Matt Damon           18\n",
       "Adam Sandler         17\n",
       "Angelina Jolie       16\n",
       "Eddie Murphy         15\n",
       "Samuel L. Jackson    15\n",
       "                     ..\n",
       "Leslie Bibb           1\n",
       "Leonard Nimoy         1\n",
       "Lennie James          1\n",
       "Lena Olin             1\n",
       "50 Cent               1\n",
       "Length: 1505, dtype: int64"
      ]
     },
     "execution_count": 228,
     "metadata": {},
     "output_type": "execute_result"
    }
   ],
   "source": [
    "# оставим только высобюджетные фильмы (фильмы, где бюджет выше среднего по данной выборке):\n",
    "mean_budget = data.budget.mean() # средний бюджет\n",
    "films16 = data[data.budget > mean_budget]\n",
    "\n",
    "# Таблица актеров высобюджетных фильмов:\n",
    "cast_films16_table = films16['cast'].str.get_dummies(sep='|') # Convert categorical variable into dummy/indicator variables\n",
    "cast_films16_table.fillna(0)\n",
    "\n",
    "# посчитаем сумму вхождений каждого актера в получившуюся таблицу:\n",
    "cast_films16_table.sum().sort_values(ascending=False)"
   ]
  },
  {
   "cell_type": "markdown",
   "metadata": {
    "colab_type": "text",
    "id": "NIh6AaW5Vp_n"
   },
   "source": [
    "# 17. В фильмах какого жанра больше всего снимался Nicolas Cage? "
   ]
  },
  {
   "cell_type": "code",
   "execution_count": 60,
   "metadata": {
    "colab": {},
    "colab_type": "code",
    "id": "H74SJDIBVp_n"
   },
   "outputs": [],
   "source": [
    "answers['17'] = 'Action'"
   ]
  },
  {
   "cell_type": "code",
   "execution_count": 227,
   "metadata": {},
   "outputs": [
    {
     "data": {
      "text/plain": [
       "Action             17\n",
       "Thriller           15\n",
       "Drama              12\n",
       "Crime              10\n",
       "Fantasy             8\n",
       "Adventure           7\n",
       "Comedy              6\n",
       "Science Fiction     4\n",
       "Mystery             3\n",
       "Family              3\n",
       "Animation           3\n",
       "History             2\n",
       "War                 1\n",
       "Romance             1\n",
       "Horror              1\n",
       "dtype: int64"
      ]
     },
     "execution_count": 227,
     "metadata": {},
     "output_type": "execute_result"
    }
   ],
   "source": [
    "# DataFrame фильмов Н. Кейджа:\n",
    "data_ncage = data[data.cast.str.contains(\"Nicolas Cage\")]\n",
    "\n",
    "# Таблица фильмов Н. Кейджа по жанрам:\n",
    "ncage_genres_table = data_ncage['genres'].str.get_dummies(sep='|') # Convert categorical variable into dummy/indicator variables\n",
    "ncage_genres_table.fillna(0)\n",
    "\n",
    "# отсортируем по кол-ву фильмов в каждом жанре:\n",
    "ncage_genres_table.sum().sort_values(ascending=False)"
   ]
  },
  {
   "cell_type": "markdown",
   "metadata": {
    "colab_type": "text",
    "id": "RqOmPRfWVp_q"
   },
   "source": [
    "# 18. Самый убыточный фильм от Paramount Pictures"
   ]
  },
  {
   "cell_type": "code",
   "execution_count": 21,
   "metadata": {
    "colab": {},
    "colab_type": "code",
    "id": "9E_B0Y96Vp_r"
   },
   "outputs": [
    {
     "data": {
      "text/html": [
       "<div>\n",
       "<style scoped>\n",
       "    .dataframe tbody tr th:only-of-type {\n",
       "        vertical-align: middle;\n",
       "    }\n",
       "\n",
       "    .dataframe tbody tr th {\n",
       "        vertical-align: top;\n",
       "    }\n",
       "\n",
       "    .dataframe thead th {\n",
       "        text-align: right;\n",
       "    }\n",
       "</style>\n",
       "<table border=\"1\" class=\"dataframe\">\n",
       "  <thead>\n",
       "    <tr style=\"text-align: right;\">\n",
       "      <th></th>\n",
       "      <th>imdb_id</th>\n",
       "      <th>budget</th>\n",
       "      <th>revenue</th>\n",
       "      <th>original_title</th>\n",
       "      <th>cast</th>\n",
       "      <th>director</th>\n",
       "      <th>tagline</th>\n",
       "      <th>overview</th>\n",
       "      <th>runtime</th>\n",
       "      <th>genres</th>\n",
       "      <th>production_companies</th>\n",
       "      <th>release_date</th>\n",
       "      <th>vote_average</th>\n",
       "      <th>release_year</th>\n",
       "      <th>release_month</th>\n",
       "      <th>release_day</th>\n",
       "      <th>profit</th>\n",
       "    </tr>\n",
       "  </thead>\n",
       "  <tbody>\n",
       "    <tr>\n",
       "      <th>925</th>\n",
       "      <td>tt0267626</td>\n",
       "      <td>100000000</td>\n",
       "      <td>35168966</td>\n",
       "      <td>K-19: The Widowmaker</td>\n",
       "      <td>Harrison Ford|Liam Neeson|Peter Sarsgaard|Joss...</td>\n",
       "      <td>Kathryn Bigelow</td>\n",
       "      <td>Fate has found its hero.</td>\n",
       "      <td>When Russia's first nuclear submarine malfunct...</td>\n",
       "      <td>138</td>\n",
       "      <td>Thriller|Drama|History</td>\n",
       "      <td>Paramount Pictures|Intermedia Films|National G...</td>\n",
       "      <td>7/19/2002</td>\n",
       "      <td>6.0</td>\n",
       "      <td>2002</td>\n",
       "      <td>7</td>\n",
       "      <td>19</td>\n",
       "      <td>-64831034</td>\n",
       "    </tr>\n",
       "  </tbody>\n",
       "</table>\n",
       "</div>"
      ],
      "text/plain": [
       "       imdb_id     budget   revenue        original_title  \\\n",
       "925  tt0267626  100000000  35168966  K-19: The Widowmaker   \n",
       "\n",
       "                                                  cast         director  \\\n",
       "925  Harrison Ford|Liam Neeson|Peter Sarsgaard|Joss...  Kathryn Bigelow   \n",
       "\n",
       "                      tagline  \\\n",
       "925  Fate has found its hero.   \n",
       "\n",
       "                                              overview  runtime  \\\n",
       "925  When Russia's first nuclear submarine malfunct...      138   \n",
       "\n",
       "                     genres  \\\n",
       "925  Thriller|Drama|History   \n",
       "\n",
       "                                  production_companies release_date  \\\n",
       "925  Paramount Pictures|Intermedia Films|National G...    7/19/2002   \n",
       "\n",
       "     vote_average  release_year  release_month  release_day    profit  \n",
       "925           6.0          2002              7           19 -64831034  "
      ]
     },
     "execution_count": 21,
     "metadata": {},
     "output_type": "execute_result"
    }
   ],
   "source": [
    "answers['18'] = 'K-19: The Widowmaker (tt0267626)'"
   ]
  },
  {
   "cell_type": "code",
   "execution_count": 268,
   "metadata": {},
   "outputs": [
    {
     "data": {
      "text/plain": [
       "925    K-19: The Widowmaker\n",
       "Name: original_title, dtype: object"
      ]
     },
     "metadata": {},
     "output_type": "display_data"
    }
   ],
   "source": [
    "# Фильмы Paramount Pictures, отсортированные по прибыли:\n",
    "films18 = data[data.production_companies.str.contains(\"Paramount Pictures\")].sort_values(['profit'], ascending=True)\n",
    "display(films18.head(1).original_title)"
   ]
  },
  {
   "cell_type": "markdown",
   "metadata": {
    "colab_type": "text",
    "id": "vS8Ur6ddVp_u"
   },
   "source": [
    "# 19. Какой год стал самым успешным по суммарным кассовым сборам?"
   ]
  },
  {
   "cell_type": "code",
   "execution_count": 62,
   "metadata": {
    "colab": {},
    "colab_type": "code",
    "id": "Dnbt4GdIVp_v"
   },
   "outputs": [],
   "source": [
    "answers['19'] = 2015"
   ]
  },
  {
   "cell_type": "code",
   "execution_count": 266,
   "metadata": {},
   "outputs": [
    {
     "data": {
      "text/plain": [
       "release_year\n",
       "2015    18668572378\n",
       "2014    16397812953\n",
       "2012    16077001687\n",
       "2013    15243179791\n",
       "2011    14730241341\n",
       "2010    13531204961\n",
       "2009    13423744372\n",
       "2008    11663881990\n",
       "2007    11565911801\n",
       "2004     9634180720\n",
       "2003     9228823312\n",
       "2002     9002361487\n",
       "2005     8981925558\n",
       "2006     8691077320\n",
       "2001     7950614865\n",
       "2000     6101399805\n",
       "Name: profit, dtype: int64"
      ]
     },
     "execution_count": 266,
     "metadata": {},
     "output_type": "execute_result"
    }
   ],
   "source": [
    "# Сгруппируем данные по годам, посчитаем суммарные сборы и отсортируем по убыванию:\n",
    "data.groupby(['release_year'])['profit'].sum().sort_values(ascending=False)\n",
    "#grouped_df = data.groupby(['release_year']).sum().sort_values(['profit'], ascending=False)\n",
    "#display(grouped_df)"
   ]
  },
  {
   "cell_type": "markdown",
   "metadata": {
    "colab_type": "text",
    "id": "JAzJh4QAVp_z"
   },
   "source": [
    "# 20. Какой самый прибыльный год для студии Warner Bros?"
   ]
  },
  {
   "cell_type": "code",
   "execution_count": 66,
   "metadata": {
    "colab": {},
    "colab_type": "code",
    "id": "wgVu02DEVp_0"
   },
   "outputs": [],
   "source": [
    "answers['20'] = 2014"
   ]
  },
  {
   "cell_type": "code",
   "execution_count": 264,
   "metadata": {},
   "outputs": [
    {
     "data": {
      "text/html": [
       "<div>\n",
       "<style scoped>\n",
       "    .dataframe tbody tr th:only-of-type {\n",
       "        vertical-align: middle;\n",
       "    }\n",
       "\n",
       "    .dataframe tbody tr th {\n",
       "        vertical-align: top;\n",
       "    }\n",
       "\n",
       "    .dataframe thead th {\n",
       "        text-align: right;\n",
       "    }\n",
       "</style>\n",
       "<table border=\"1\" class=\"dataframe\">\n",
       "  <thead>\n",
       "    <tr style=\"text-align: right;\">\n",
       "      <th></th>\n",
       "      <th>budget</th>\n",
       "      <th>revenue</th>\n",
       "      <th>runtime</th>\n",
       "      <th>vote_average</th>\n",
       "      <th>release_month</th>\n",
       "      <th>release_day</th>\n",
       "      <th>profit</th>\n",
       "      <th>title_length</th>\n",
       "      <th>overview_length</th>\n",
       "    </tr>\n",
       "    <tr>\n",
       "      <th>release_year</th>\n",
       "      <th></th>\n",
       "      <th></th>\n",
       "      <th></th>\n",
       "      <th></th>\n",
       "      <th></th>\n",
       "      <th></th>\n",
       "      <th></th>\n",
       "      <th></th>\n",
       "      <th></th>\n",
       "    </tr>\n",
       "  </thead>\n",
       "  <tbody>\n",
       "    <tr>\n",
       "      <th>2014</th>\n",
       "      <td>947600000</td>\n",
       "      <td>3243064519</td>\n",
       "      <td>1576</td>\n",
       "      <td>88.9</td>\n",
       "      <td>89</td>\n",
       "      <td>180</td>\n",
       "      <td>2295464519</td>\n",
       "      <td>176</td>\n",
       "      <td>4024</td>\n",
       "    </tr>\n",
       "    <tr>\n",
       "      <th>2007</th>\n",
       "      <td>982000000</td>\n",
       "      <td>3183675217</td>\n",
       "      <td>1721</td>\n",
       "      <td>95.4</td>\n",
       "      <td>114</td>\n",
       "      <td>202</td>\n",
       "      <td>2201675217</td>\n",
       "      <td>273</td>\n",
       "      <td>4834</td>\n",
       "    </tr>\n",
       "    <tr>\n",
       "      <th>2008</th>\n",
       "      <td>916000000</td>\n",
       "      <td>3050595031</td>\n",
       "      <td>1366</td>\n",
       "      <td>72.0</td>\n",
       "      <td>81</td>\n",
       "      <td>141</td>\n",
       "      <td>2134595031</td>\n",
       "      <td>149</td>\n",
       "      <td>3030</td>\n",
       "    </tr>\n",
       "    <tr>\n",
       "      <th>2010</th>\n",
       "      <td>1034000000</td>\n",
       "      <td>3008712985</td>\n",
       "      <td>1421</td>\n",
       "      <td>79.6</td>\n",
       "      <td>92</td>\n",
       "      <td>180</td>\n",
       "      <td>1974712985</td>\n",
       "      <td>201</td>\n",
       "      <td>5058</td>\n",
       "    </tr>\n",
       "    <tr>\n",
       "      <th>2011</th>\n",
       "      <td>974000000</td>\n",
       "      <td>2845393682</td>\n",
       "      <td>1248</td>\n",
       "      <td>68.3</td>\n",
       "      <td>78</td>\n",
       "      <td>191</td>\n",
       "      <td>1871393682</td>\n",
       "      <td>220</td>\n",
       "      <td>3220</td>\n",
       "    </tr>\n",
       "    <tr>\n",
       "      <th>2003</th>\n",
       "      <td>890000000</td>\n",
       "      <td>2745493377</td>\n",
       "      <td>1085</td>\n",
       "      <td>56.7</td>\n",
       "      <td>81</td>\n",
       "      <td>109</td>\n",
       "      <td>1855493377</td>\n",
       "      <td>178</td>\n",
       "      <td>3425</td>\n",
       "    </tr>\n",
       "    <tr>\n",
       "      <th>2009</th>\n",
       "      <td>915500000</td>\n",
       "      <td>2737954136</td>\n",
       "      <td>1305</td>\n",
       "      <td>67.9</td>\n",
       "      <td>78</td>\n",
       "      <td>132</td>\n",
       "      <td>1822454136</td>\n",
       "      <td>158</td>\n",
       "      <td>3316</td>\n",
       "    </tr>\n",
       "    <tr>\n",
       "      <th>2013</th>\n",
       "      <td>963500000</td>\n",
       "      <td>2599953400</td>\n",
       "      <td>1100</td>\n",
       "      <td>59.9</td>\n",
       "      <td>47</td>\n",
       "      <td>135</td>\n",
       "      <td>1636453400</td>\n",
       "      <td>114</td>\n",
       "      <td>4175</td>\n",
       "    </tr>\n",
       "    <tr>\n",
       "      <th>2004</th>\n",
       "      <td>1100000000</td>\n",
       "      <td>2731933725</td>\n",
       "      <td>1624</td>\n",
       "      <td>78.7</td>\n",
       "      <td>91</td>\n",
       "      <td>223</td>\n",
       "      <td>1631933725</td>\n",
       "      <td>194</td>\n",
       "      <td>4399</td>\n",
       "    </tr>\n",
       "    <tr>\n",
       "      <th>2005</th>\n",
       "      <td>861000000</td>\n",
       "      <td>2412980298</td>\n",
       "      <td>1193</td>\n",
       "      <td>63.0</td>\n",
       "      <td>78</td>\n",
       "      <td>126</td>\n",
       "      <td>1551980298</td>\n",
       "      <td>170</td>\n",
       "      <td>3450</td>\n",
       "    </tr>\n",
       "    <tr>\n",
       "      <th>2001</th>\n",
       "      <td>923000000</td>\n",
       "      <td>2266545668</td>\n",
       "      <td>1571</td>\n",
       "      <td>83.6</td>\n",
       "      <td>97</td>\n",
       "      <td>185</td>\n",
       "      <td>1343545668</td>\n",
       "      <td>222</td>\n",
       "      <td>4443</td>\n",
       "    </tr>\n",
       "    <tr>\n",
       "      <th>2012</th>\n",
       "      <td>611500000</td>\n",
       "      <td>1869520056</td>\n",
       "      <td>579</td>\n",
       "      <td>30.0</td>\n",
       "      <td>33</td>\n",
       "      <td>85</td>\n",
       "      <td>1258020056</td>\n",
       "      <td>70</td>\n",
       "      <td>1710</td>\n",
       "    </tr>\n",
       "    <tr>\n",
       "      <th>2002</th>\n",
       "      <td>680000000</td>\n",
       "      <td>1702709901</td>\n",
       "      <td>1281</td>\n",
       "      <td>70.6</td>\n",
       "      <td>69</td>\n",
       "      <td>142</td>\n",
       "      <td>1022709901</td>\n",
       "      <td>189</td>\n",
       "      <td>3039</td>\n",
       "    </tr>\n",
       "    <tr>\n",
       "      <th>2015</th>\n",
       "      <td>820800003</td>\n",
       "      <td>1691168351</td>\n",
       "      <td>1358</td>\n",
       "      <td>75.9</td>\n",
       "      <td>82</td>\n",
       "      <td>201</td>\n",
       "      <td>870368348</td>\n",
       "      <td>137</td>\n",
       "      <td>3573</td>\n",
       "    </tr>\n",
       "    <tr>\n",
       "      <th>2006</th>\n",
       "      <td>901000000</td>\n",
       "      <td>1521170743</td>\n",
       "      <td>1504</td>\n",
       "      <td>81.0</td>\n",
       "      <td>115</td>\n",
       "      <td>178</td>\n",
       "      <td>620170743</td>\n",
       "      <td>178</td>\n",
       "      <td>3335</td>\n",
       "    </tr>\n",
       "    <tr>\n",
       "      <th>2000</th>\n",
       "      <td>572900000</td>\n",
       "      <td>1025531386</td>\n",
       "      <td>1333</td>\n",
       "      <td>68.0</td>\n",
       "      <td>81</td>\n",
       "      <td>196</td>\n",
       "      <td>452631386</td>\n",
       "      <td>162</td>\n",
       "      <td>3210</td>\n",
       "    </tr>\n",
       "  </tbody>\n",
       "</table>\n",
       "</div>"
      ],
      "text/plain": [
       "                  budget     revenue  runtime  vote_average  release_month  \\\n",
       "release_year                                                                 \n",
       "2014           947600000  3243064519     1576          88.9             89   \n",
       "2007           982000000  3183675217     1721          95.4            114   \n",
       "2008           916000000  3050595031     1366          72.0             81   \n",
       "2010          1034000000  3008712985     1421          79.6             92   \n",
       "2011           974000000  2845393682     1248          68.3             78   \n",
       "2003           890000000  2745493377     1085          56.7             81   \n",
       "2009           915500000  2737954136     1305          67.9             78   \n",
       "2013           963500000  2599953400     1100          59.9             47   \n",
       "2004          1100000000  2731933725     1624          78.7             91   \n",
       "2005           861000000  2412980298     1193          63.0             78   \n",
       "2001           923000000  2266545668     1571          83.6             97   \n",
       "2012           611500000  1869520056      579          30.0             33   \n",
       "2002           680000000  1702709901     1281          70.6             69   \n",
       "2015           820800003  1691168351     1358          75.9             82   \n",
       "2006           901000000  1521170743     1504          81.0            115   \n",
       "2000           572900000  1025531386     1333          68.0             81   \n",
       "\n",
       "              release_day      profit  title_length  overview_length  \n",
       "release_year                                                          \n",
       "2014                  180  2295464519           176             4024  \n",
       "2007                  202  2201675217           273             4834  \n",
       "2008                  141  2134595031           149             3030  \n",
       "2010                  180  1974712985           201             5058  \n",
       "2011                  191  1871393682           220             3220  \n",
       "2003                  109  1855493377           178             3425  \n",
       "2009                  132  1822454136           158             3316  \n",
       "2013                  135  1636453400           114             4175  \n",
       "2004                  223  1631933725           194             4399  \n",
       "2005                  126  1551980298           170             3450  \n",
       "2001                  185  1343545668           222             4443  \n",
       "2012                   85  1258020056            70             1710  \n",
       "2002                  142  1022709901           189             3039  \n",
       "2015                  201   870368348           137             3573  \n",
       "2006                  178   620170743           178             3335  \n",
       "2000                  196   452631386           162             3210  "
      ]
     },
     "execution_count": 264,
     "metadata": {},
     "output_type": "execute_result"
    }
   ],
   "source": [
    "# Фильмы студии Warner Bros:\n",
    "films20 = data[data.production_companies.str.contains(\"Warner Bros\")]\n",
    "\n",
    "# сгруппируем данные по годам, посчитаем суммарную прибыль, отсортируем по убыванию:\n",
    "films20.groupby(['release_year']).sum().sort_values(['profit'], ascending=False)"
   ]
  },
  {
   "cell_type": "markdown",
   "metadata": {
    "colab_type": "text",
    "id": "8Im1S2HRVp_4"
   },
   "source": [
    "# 21. В каком месяце за все годы суммарно вышло больше всего фильмов?"
   ]
  },
  {
   "cell_type": "code",
   "execution_count": 69,
   "metadata": {
    "colab": {},
    "colab_type": "code",
    "id": "lev6TH7gVp_4"
   },
   "outputs": [],
   "source": [
    "answers['21'] = 'Сентябрь'"
   ]
  },
  {
   "cell_type": "code",
   "execution_count": 262,
   "metadata": {},
   "outputs": [
    {
     "data": {
      "text/plain": [
       "9"
      ]
     },
     "metadata": {},
     "output_type": "display_data"
    }
   ],
   "source": [
    "# сгруппируем данные по месяцам, посчитаем кол-во фильмов, отсортируем по убыванию:\n",
    "grouped_df21 = data.groupby(['release_month'])['imdb_id'].count().sort_values(ascending=False)\n",
    "display(grouped_df21.index[0]) # номер месяца, в котором вышло больше всего фильмов"
   ]
  },
  {
   "cell_type": "markdown",
   "metadata": {
    "colab_type": "text",
    "id": "uAJsZ_NeVp_7"
   },
   "source": [
    "# 22. Сколько суммарно вышло фильмов летом? (за июнь, июль, август)"
   ]
  },
  {
   "cell_type": "code",
   "execution_count": 77,
   "metadata": {
    "colab": {},
    "colab_type": "code",
    "id": "Aa-hEREoVp_8"
   },
   "outputs": [],
   "source": [
    "answers['22'] = 450"
   ]
  },
  {
   "cell_type": "code",
   "execution_count": 260,
   "metadata": {},
   "outputs": [
    {
     "data": {
      "text/plain": [
       "450"
      ]
     },
     "execution_count": 260,
     "metadata": {},
     "output_type": "execute_result"
    }
   ],
   "source": [
    "# Фильмы лета всех годов:\n",
    "films22 = data[(data.release_month >= 6) & (data.release_month <= 8)]\n",
    "films22.imdb_id.count() # кол-во летних фильмов"
   ]
  },
  {
   "cell_type": "markdown",
   "metadata": {
    "colab_type": "text",
    "id": "G94ppOY1VqAA"
   },
   "source": [
    "# 23. Для какого режиссера зима – самое продуктивное время года? "
   ]
  },
  {
   "cell_type": "code",
   "execution_count": 81,
   "metadata": {
    "colab": {},
    "colab_type": "code",
    "id": "RhNTsamuVqAB"
   },
   "outputs": [],
   "source": [
    "answers['23'] = 'Peter Jackson'\n",
    "\n",
    "# Вариант 1 работает не совсем корректно для фильмов, где более 1 режиссера, но я его оставил из-за лаконичности \n",
    "# Вариант 2 дает правильный ответ, хотя в этом случае ответы в.1 и в.2 совпадают"
   ]
  },
  {
   "cell_type": "code",
   "execution_count": 258,
   "metadata": {},
   "outputs": [
    {
     "data": {
      "text/plain": [
       "director\n",
       "Peter Jackson                          7\n",
       "Steven Soderbergh                      6\n",
       "Clint Eastwood                         6\n",
       "Nancy Meyers                           4\n",
       "Adam Shankman                          4\n",
       "                                      ..\n",
       "Matt Bettinelli-Olpin|Tyler Gillett    1\n",
       "Matt Reeves                            1\n",
       "Matthew O'Callaghan                    1\n",
       "Matthew Vaughn                         1\n",
       "Aaron Seltzer|Jason Friedberg          1\n",
       "Name: imdb_id, Length: 332, dtype: int64"
      ]
     },
     "metadata": {},
     "output_type": "display_data"
    }
   ],
   "source": [
    "# Фильмы зимы всех годов:\n",
    "films23 = data[(data.release_month == 12) | (data.release_month <= 2)]\n",
    "\n",
    "# сгруппируем фильмы по режиссерам:\n",
    "display(films23.groupby(['director'])['imdb_id'].count().sort_values(ascending=False))"
   ]
  },
  {
   "cell_type": "markdown",
   "metadata": {},
   "source": [
    "ВАРИАНТ 2"
   ]
  },
  {
   "cell_type": "code",
   "execution_count": 256,
   "metadata": {},
   "outputs": [
    {
     "data": {
      "text/plain": [
       "Peter Jackson            7\n",
       "Steven Soderbergh        6\n",
       "Clint Eastwood           6\n",
       "Martin Scorsese          4\n",
       "Adam Shankman            4\n",
       "                        ..\n",
       "Matt Bettinelli-Olpin    1\n",
       "Matt Reeves              1\n",
       "Matthew O'Callaghan      1\n",
       "Matthew Vaughn           1\n",
       "Jon Avnet                1\n",
       "Length: 358, dtype: int64"
      ]
     },
     "execution_count": 256,
     "metadata": {},
     "output_type": "execute_result"
    }
   ],
   "source": [
    "# Фильмы зимы всех годов:\n",
    "films23 = data[(data.release_month == 12) | (data.release_month <= 2)][['imdb_id', 'director']]\n",
    "\n",
    "# Таблица режиссеров зимних фильмов:\n",
    "directors_table = films23['director'].str.get_dummies(sep='|') # Convert categorical variable into dummy/indicator variables\n",
    "directors_table.fillna(0)\n",
    "\n",
    "# Найдем кол-во фильмов по каждому режиссеру:\n",
    "directors_table.sum().sort_values(ascending=False)"
   ]
  },
  {
   "cell_type": "markdown",
   "metadata": {
    "colab_type": "text",
    "id": "RBo0JVjVVqAF"
   },
   "source": [
    "# 24. Какая студия дает самые длинные названия своим фильмам по количеству символов?"
   ]
  },
  {
   "cell_type": "code",
   "execution_count": 117,
   "metadata": {
    "colab": {},
    "colab_type": "code",
    "id": "QRGS8L0iVqAG"
   },
   "outputs": [],
   "source": [
    "answers['24'] = 'Four By Two Productions'"
   ]
  },
  {
   "cell_type": "code",
   "execution_count": 254,
   "metadata": {},
   "outputs": [
    {
     "name": "stderr",
     "output_type": "stream",
     "text": [
      "L:\\Anaconda\\lib\\site-packages\\pandas\\core\\generic.py:5303: SettingWithCopyWarning: \n",
      "A value is trying to be set on a copy of a slice from a DataFrame.\n",
      "Try using .loc[row_indexer,col_indexer] = value instead\n",
      "\n",
      "See the caveats in the documentation: https://pandas.pydata.org/pandas-docs/stable/user_guide/indexing.html#returning-a-view-versus-a-copy\n",
      "  self[name] = value\n"
     ]
    },
    {
     "data": {
      "text/html": [
       "<div>\n",
       "<style scoped>\n",
       "    .dataframe tbody tr th:only-of-type {\n",
       "        vertical-align: middle;\n",
       "    }\n",
       "\n",
       "    .dataframe tbody tr th {\n",
       "        vertical-align: top;\n",
       "    }\n",
       "\n",
       "    .dataframe thead th {\n",
       "        text-align: right;\n",
       "    }\n",
       "</style>\n",
       "<table border=\"1\" class=\"dataframe\">\n",
       "  <thead>\n",
       "    <tr style=\"text-align: right;\">\n",
       "      <th></th>\n",
       "      <th>imdb_id</th>\n",
       "      <th>production_companies</th>\n",
       "      <th>title_length</th>\n",
       "    </tr>\n",
       "  </thead>\n",
       "  <tbody>\n",
       "    <tr>\n",
       "      <th>1448</th>\n",
       "      <td>tt0443453</td>\n",
       "      <td>Four By Two Productions</td>\n",
       "      <td>83</td>\n",
       "    </tr>\n",
       "    <tr>\n",
       "      <th>1448</th>\n",
       "      <td>tt0443453</td>\n",
       "      <td>Twentieth Century Fox Film Corporation</td>\n",
       "      <td>83</td>\n",
       "    </tr>\n",
       "    <tr>\n",
       "      <th>1314</th>\n",
       "      <td>tt0363771</td>\n",
       "      <td>Walden Media</td>\n",
       "      <td>62</td>\n",
       "    </tr>\n",
       "    <tr>\n",
       "      <th>1314</th>\n",
       "      <td>tt0363771</td>\n",
       "      <td>Walt Disney</td>\n",
       "      <td>62</td>\n",
       "    </tr>\n",
       "    <tr>\n",
       "      <th>219</th>\n",
       "      <td>tt1698641</td>\n",
       "      <td>Walt Disney Pictures</td>\n",
       "      <td>59</td>\n",
       "    </tr>\n",
       "    <tr>\n",
       "      <th>...</th>\n",
       "      <td>...</td>\n",
       "      <td>...</td>\n",
       "      <td>...</td>\n",
       "    </tr>\n",
       "    <tr>\n",
       "      <th>252</th>\n",
       "      <td>tt0472033</td>\n",
       "      <td>Focus Films</td>\n",
       "      <td>1</td>\n",
       "    </tr>\n",
       "    <tr>\n",
       "      <th>252</th>\n",
       "      <td>tt0472033</td>\n",
       "      <td>Starz Animation</td>\n",
       "      <td>1</td>\n",
       "    </tr>\n",
       "    <tr>\n",
       "      <th>252</th>\n",
       "      <td>tt0472033</td>\n",
       "      <td>Relativity Media</td>\n",
       "      <td>1</td>\n",
       "    </tr>\n",
       "    <tr>\n",
       "      <th>252</th>\n",
       "      <td>tt0472033</td>\n",
       "      <td>Arc Productions</td>\n",
       "      <td>1</td>\n",
       "    </tr>\n",
       "    <tr>\n",
       "      <th>252</th>\n",
       "      <td>tt0472033</td>\n",
       "      <td>Tim Burton Productions</td>\n",
       "      <td>1</td>\n",
       "    </tr>\n",
       "  </tbody>\n",
       "</table>\n",
       "<p>6078 rows × 3 columns</p>\n",
       "</div>"
      ],
      "text/plain": [
       "        imdb_id                    production_companies  title_length\n",
       "1448  tt0443453                 Four By Two Productions            83\n",
       "1448  tt0443453  Twentieth Century Fox Film Corporation            83\n",
       "1314  tt0363771                            Walden Media            62\n",
       "1314  tt0363771                             Walt Disney            62\n",
       "219   tt1698641                    Walt Disney Pictures            59\n",
       "...         ...                                     ...           ...\n",
       "252   tt0472033                             Focus Films             1\n",
       "252   tt0472033                         Starz Animation             1\n",
       "252   tt0472033                        Relativity Media             1\n",
       "252   tt0472033                         Arc Productions             1\n",
       "252   tt0472033                  Tim Burton Productions             1\n",
       "\n",
       "[6078 rows x 3 columns]"
      ]
     },
     "execution_count": 254,
     "metadata": {},
     "output_type": "execute_result"
    }
   ],
   "source": [
    "# Выделим нужные данные в отдельный DataFrame:\n",
    "data24 = data[['imdb_id', 'production_companies', 'title_length']]\n",
    "\n",
    "# на каждую студию отдельная строка:\n",
    "if not(isinstance(data24.production_companies.iloc[0], list)): # если запускаем в первый раз\n",
    "    data24.production_companies = data24['production_companies'].apply(lambda x: x.split('|'))\n",
    "data24.fillna(0)\n",
    "df24 = data24.explode('production_companies')\n",
    "\n",
    "# отсортируем по убыванию длины названий фильмов:\n",
    "df24.sort_values(['title_length'], ascending=False)"
   ]
  },
  {
   "cell_type": "markdown",
   "metadata": {
    "colab_type": "text",
    "id": "9G0hbvR7VqAK"
   },
   "source": [
    "# 25. Описание фильмов какой студии в среднем самые длинные по количеству слов?"
   ]
  },
  {
   "cell_type": "code",
   "execution_count": 121,
   "metadata": {
    "colab": {},
    "colab_type": "code",
    "id": "Ge2GsLNxVqAK"
   },
   "outputs": [],
   "source": [
    "answers['25'] = 'Midnight Picture Show'"
   ]
  },
  {
   "cell_type": "code",
   "execution_count": 251,
   "metadata": {},
   "outputs": [
    {
     "data": {
      "text/plain": [
       "production_companies\n",
       "Midnight Picture Show                    1000.0\n",
       "Room 9 Entertainment                      964.0\n",
       "Brookwell-McNamara Entertainment          936.0\n",
       "Lions Gate Family Entertainment           909.0\n",
       "Crest Animation Productions               909.0\n",
       "                                          ...  \n",
       "Projection Pictures                        74.0\n",
       "London Boulevard                           74.0\n",
       "Phantom Four                               72.0\n",
       "Empire Pictures                            62.0\n",
       "Motion Picture Corporation of America      59.0\n",
       "Name: overview_length, Length: 1771, dtype: float64"
      ]
     },
     "execution_count": 251,
     "metadata": {},
     "output_type": "execute_result"
    }
   ],
   "source": [
    "# Выделим нужные данные в отдельный DataFrame:\n",
    "data25 = data[['imdb_id', 'production_companies', 'overview_length']]\n",
    "\n",
    "# на каждую студию отдельная строка:\n",
    "if not(isinstance(data25.production_companies.iloc[0], list)): # если запускаем в первый раз\n",
    "    data25.production_companies = data25['production_companies'].apply(lambda x: x.split('|'))\n",
    "data25.fillna(0)\n",
    "df25 = data25.explode('production_companies')\n",
    "\n",
    "# сгруппируем по студиям, вычислим среднуюю длину описания фильмов, отсортируем по убыванию:\n",
    "df25.groupby(['production_companies'])['overview_length'].mean().sort_values(ascending=False)"
   ]
  },
  {
   "cell_type": "markdown",
   "metadata": {
    "colab_type": "text",
    "id": "FJ1AFt90VqAP"
   },
   "source": [
    "# 26. Какие фильмы входят в 1 процент лучших по рейтингу? \n",
    "по vote_average"
   ]
  },
  {
   "cell_type": "code",
   "execution_count": 149,
   "metadata": {
    "colab": {},
    "colab_type": "code",
    "id": "8qmJVq4CVqAQ"
   },
   "outputs": [],
   "source": [
    "answers['26'] = 'Inside Out, The Dark Knight, 12 Years a Slave'\n",
    "\n",
    "answer26_list = [\n",
    "\"Inside Out, The Dark Knight, 12 Years a Slave\",\n",
    "\"BloodRayne, The Adventures of Rocky & Bullwinkle\",\n",
    "\"Batman Begins, The Lord of the Rings: The Return of the King, Upside Down\",\n",
    "\"300, Lucky Number Slevin, Kill Bill: Vol. 1\",\n",
    "\"Upside Down, Inside Out, Iron Man\"]"
   ]
  },
  {
   "cell_type": "code",
   "execution_count": 250,
   "metadata": {},
   "outputs": [
    {
     "name": "stdout",
     "output_type": "stream",
     "text": [
      "Number of 1 percent best movies =  19\n"
     ]
    },
    {
     "data": {
      "text/plain": [
       "599                                   The Dark Knight\n",
       "118                                      Interstellar\n",
       "125                                The Imitation Game\n",
       "9                                          Inside Out\n",
       "34                                               Room\n",
       "1183                          The Wolf of Wall Street\n",
       "128                                         Gone Girl\n",
       "1191                                 12 Years a Slave\n",
       "119                           Guardians of the Galaxy\n",
       "1081    The Lord of the Rings: The Return of the King\n",
       "1800                                          Memento\n",
       "370                                         Inception\n",
       "872                                       The Pianist\n",
       "138                          The Grand Budapest Hotel\n",
       "1188                                              Her\n",
       "28                                          Spotlight\n",
       "124                                        Big Hero 6\n",
       "177                            The Fault in Our Stars\n",
       "863             The Lord of the Rings: The Two Towers\n",
       "Name: original_title, dtype: object"
      ]
     },
     "execution_count": 250,
     "metadata": {},
     "output_type": "execute_result"
    }
   ],
   "source": [
    "best_movies_number = round(len(data.vote_average)/100) # вычисляем кол-во таких фильмов\n",
    "print('Number of 1 percent best movies = ', best_movies_number)\n",
    "data.sort_values(['vote_average'], ascending=False).head(best_movies_number).original_title # выводим названия лучших фильмов"
   ]
  },
  {
   "cell_type": "markdown",
   "metadata": {
    "colab_type": "text",
    "id": "MdXsUXbCVqAV"
   },
   "source": [
    "# 27. Какие актеры чаще всего снимаются в одном фильме вместе?\n"
   ]
  },
  {
   "cell_type": "code",
   "execution_count": 82,
   "metadata": {},
   "outputs": [],
   "source": [
    "answers['27'] = 'Daniel Radcliffe & Rupert Grint'"
   ]
  },
  {
   "cell_type": "code",
   "execution_count": 249,
   "metadata": {},
   "outputs": [
    {
     "name": "stderr",
     "output_type": "stream",
     "text": [
      "L:\\Anaconda\\lib\\site-packages\\pandas\\core\\generic.py:5303: SettingWithCopyWarning: \n",
      "A value is trying to be set on a copy of a slice from a DataFrame.\n",
      "Try using .loc[row_indexer,col_indexer] = value instead\n",
      "\n",
      "See the caveats in the documentation: https://pandas.pydata.org/pandas-docs/stable/user_guide/indexing.html#returning-a-view-versus-a-copy\n",
      "  self[name] = value\n",
      "<ipython-input-249-3e949e60076d>:6: SettingWithCopyWarning: \n",
      "A value is trying to be set on a copy of a slice from a DataFrame.\n",
      "Try using .loc[row_indexer,col_indexer] = value instead\n",
      "\n",
      "See the caveats in the documentation: https://pandas.pydata.org/pandas-docs/stable/user_guide/indexing.html#returning-a-view-versus-a-copy\n",
      "  data27['pairs'] = data27.cast.apply(lambda s: list(itertools.combinations(s, 2)))\n"
     ]
    },
    {
     "data": {
      "text/plain": [
       "[(('Daniel Radcliffe', 'Rupert Grint'), 8)]"
      ]
     },
     "execution_count": 249,
     "metadata": {},
     "output_type": "execute_result"
    }
   ],
   "source": [
    "# Выделим только нужные данные:\n",
    "data27 = data[['imdb_id', 'cast']]\n",
    "\n",
    "# Скомбинируем все пары актеров для каждого фильма:\n",
    "data27.cast = data27.cast.apply(lambda x: x.split('|'))\n",
    "data27['pairs'] = data27.cast.apply(lambda s: list(itertools.combinations(s, 2)))\n",
    "# Пары актеров в каждой строке:\n",
    "df27 = data27.explode('pairs')\n",
    "# Посчитаем кол-во каждой пары:\n",
    "Counter(df27.pairs).most_common(1)"
   ]
  },
  {
   "cell_type": "markdown",
   "metadata": {
    "colab_type": "text",
    "id": "U0nONFnGVqAX"
   },
   "source": [
    "# Submission"
   ]
  },
  {
   "cell_type": "code",
   "execution_count": 212,
   "metadata": {
    "colab": {},
    "colab_type": "code",
    "id": "IfcaRO9-VqAX",
    "outputId": "0f132912-32bb-4196-c98c-abfbc4ad5a5f"
   },
   "outputs": [
    {
     "data": {
      "text/plain": [
       "{'1': '5. Pirates of the Caribbean: On Stranger Tides (tt1298650)',\n",
       " '24': 'Four By Two Productions',\n",
       " '25': 'Midnight Picture Show',\n",
       " '26': 'Inside Out, The Dark Knight, 12 Years a Slave'}"
      ]
     },
     "execution_count": 212,
     "metadata": {},
     "output_type": "execute_result"
    }
   ],
   "source": [
    "# в конце можно посмотреть свои ответы к каждому вопросу\n",
    "answers"
   ]
  },
  {
   "cell_type": "code",
   "execution_count": 213,
   "metadata": {
    "colab": {},
    "colab_type": "code",
    "id": "SiRmHPl8VqAd"
   },
   "outputs": [
    {
     "data": {
      "text/plain": [
       "4"
      ]
     },
     "execution_count": 213,
     "metadata": {},
     "output_type": "execute_result"
    }
   ],
   "source": [
    "# и убедиться что ни чего не пропустил)\n",
    "len(answers)"
   ]
  },
  {
   "cell_type": "code",
   "execution_count": 0,
   "metadata": {
    "colab": {},
    "colab_type": "code",
    "id": "uCfuTkRbVqAg"
   },
   "outputs": [],
   "source": []
  },
  {
   "cell_type": "code",
   "execution_count": 0,
   "metadata": {
    "colab": {},
    "colab_type": "code",
    "id": "Vwx3NrkSVqAl"
   },
   "outputs": [],
   "source": []
  }
 ],
 "metadata": {
  "colab": {
   "name": "Copy of [SF-DST] Movies IMBD v4.1 TEMPLATE.ipynb",
   "provenance": []
  },
  "kernelspec": {
   "display_name": "Python 3",
   "language": "python",
   "name": "python3"
  },
  "language_info": {
   "codemirror_mode": {
    "name": "ipython",
    "version": 3
   },
   "file_extension": ".py",
   "mimetype": "text/x-python",
   "name": "python",
   "nbconvert_exporter": "python",
   "pygments_lexer": "ipython3",
   "version": "3.8.3"
  }
 },
 "nbformat": 4,
 "nbformat_minor": 1
}
