{
 "cells": [
  {
   "cell_type": "code",
   "execution_count": 1,
   "metadata": {},
   "outputs": [
    {
     "name": "stdout",
     "output_type": "stream",
     "text": [
      "Ваш алгоритм угадывает число в среднем за 7 попыток\n"
     ]
    },
    {
     "data": {
      "text/plain": [
       "7"
      ]
     },
     "execution_count": 1,
     "metadata": {},
     "output_type": "execute_result"
    }
   ],
   "source": [
    "import numpy as np\n",
    "\n",
    "# Моя реализация (типа метод половинного деления)\n",
    "def game_core_v3(number, enable_debug=False):\n",
    "    '''Сначала устанавливаем любое random число в исходном диапазоне.\n",
    "       В зависимости от того, больше это число или меньше нужного изменяем диапазон поиска и уменьшаем/увеличиваем число на половину этого диапазона.\n",
    "       Функция принимает загаданное число и возвращает число попыток'''\n",
    "    \n",
    "    error = False # ошибка алгоритма (бесконечный)\n",
    "    count = 1 # счетчик попыток\n",
    "    max_number = 101 # правый предел\n",
    "    min_number = 1 # левый предел\n",
    "    \n",
    "    predict = np.random.randint(min_number,max_number)\n",
    "    while number != predict: # выход из цикла, если угадали\n",
    "        \n",
    "        if enable_debug: # по умолчанию не выводим\n",
    "            print(\"Попытка\", count, \":\", predict)\n",
    "            print(\"Загаданное число:\", number)\n",
    "        \n",
    "        count += 1\n",
    "        if number > predict: # увеличиваем в 2 раза в оставшемся диапазоне\n",
    "            min_number = predict\n",
    "            predict = predict + round((max_number - min_number)/2)\n",
    "        elif number < predict: # уменьшаем в 2 раза в оставшемся диапазоне\n",
    "            max_number = predict\n",
    "            predict = predict - round((max_number - min_number)/2)\n",
    "            \n",
    "        if count > 100: # выйти из бесконечного поиска\n",
    "            error = True\n",
    "            break\n",
    "    \n",
    "    if enable_debug: # по умолчанию не выводим\n",
    "        print(\"С\", count, \"попыток отгадал число:\", predict)\n",
    "    \n",
    "    return(count)\n",
    "\n",
    "\n",
    "def score_game(game_core):\n",
    "    '''Запускаем игру 1000 раз, чтобы узнать, как быстро игра угадывает число'''\n",
    "    \n",
    "    count_ls = []\n",
    "    np.random.seed(1)  # фиксируем RANDOM SEED, чтобы эксперимент был воспроизводим!\n",
    "    \n",
    "    random_array = np.random.randint(1,101, size=(1000))\n",
    "    for number in random_array:\n",
    "        count_ls.append(game_core(number))\n",
    "        \n",
    "    score = int(np.mean(count_ls)) # средний результат\n",
    "    print(f\"Ваш алгоритм угадывает число в среднем за {score} попыток\")\n",
    "    \n",
    "    return(score)\n",
    "\n",
    "\n",
    "# Проверяем\n",
    "score_game(game_core_v3)"
   ]
  },
  {
   "cell_type": "code",
   "execution_count": null,
   "metadata": {},
   "outputs": [],
   "source": []
  }
 ],
 "metadata": {
  "kernelspec": {
   "display_name": "Python 3",
   "language": "python",
   "name": "python3"
  },
  "language_info": {
   "codemirror_mode": {
    "name": "ipython",
    "version": 3
   },
   "file_extension": ".py",
   "mimetype": "text/x-python",
   "name": "python",
   "nbconvert_exporter": "python",
   "pygments_lexer": "ipython3",
   "version": "3.8.3"
  }
 },
 "nbformat": 4,
 "nbformat_minor": 4
}
